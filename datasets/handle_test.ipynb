{
 "cells": [
  {
   "cell_type": "code",
   "execution_count": 1,
   "id": "903e0e59-8b0f-4659-ad72-b2cc494dbe9f",
   "metadata": {},
   "outputs": [],
   "source": [
    "import pandas as pd"
   ]
  },
  {
   "cell_type": "code",
   "execution_count": 2,
   "id": "eea1d7bf-62b3-4d54-9c72-bbacb9e1cc30",
   "metadata": {},
   "outputs": [
    {
     "name": "stdout",
     "output_type": "stream",
     "text": [
      "                    DateTime Global_active_power Global_reactive_power  \\\n",
      "0        2009-01-01 00:00:00               0.484                 0.062   \n",
      "1        2009-01-01 00:01:00               0.484                 0.062   \n",
      "2        2009-01-01 00:02:00               0.482                 0.062   \n",
      "3        2009-01-01 00:03:00               0.482                  0.06   \n",
      "4        2009-01-01 00:04:00               0.482                 0.062   \n",
      "...                      ...                 ...                   ...   \n",
      "1000618  2010-11-26 20:58:00               0.946                   0.0   \n",
      "1000619  2010-11-26 20:59:00               0.944                   0.0   \n",
      "1000620  2010-11-26 21:00:00               0.938                   0.0   \n",
      "1000621  2010-11-26 21:01:00               0.934                   0.0   \n",
      "1000622  2010-11-26 21:02:00               0.932                   0.0   \n",
      "\n",
      "        Voltage Global_intensity Sub_metering_1 Sub_metering_2  \\\n",
      "0        247.86              2.2            0.0            0.0   \n",
      "1        247.72              2.2            0.0            0.0   \n",
      "2        247.75              2.2            0.0            0.0   \n",
      "3        247.52              2.2            0.0            0.0   \n",
      "4        246.94              2.2            0.0            0.0   \n",
      "...         ...              ...            ...            ...   \n",
      "1000618  240.43              4.0            0.0            0.0   \n",
      "1000619   240.0              4.0            0.0            0.0   \n",
      "1000620  239.82              3.8            0.0            0.0   \n",
      "1000621   239.7              3.8            0.0            0.0   \n",
      "1000622  239.55              3.8            0.0            0.0   \n",
      "\n",
      "         Sub_metering_3     RR  NBJRR1  NBJRR5  NBJRR10  NBJBROU  \n",
      "0                   0.0  51.24    10.0     4.2      1.4      0.6  \n",
      "1                   0.0  51.24    10.0     4.2      1.4      0.6  \n",
      "2                   0.0  51.24    10.0     4.2      1.4      0.6  \n",
      "3                   0.0  51.24    10.0     4.2      1.4      0.6  \n",
      "4                   0.0  51.24    10.0     4.2      1.4      0.6  \n",
      "...                 ...    ...     ...     ...      ...      ...  \n",
      "1000618             0.0  65.36    10.6     4.8      1.8      0.6  \n",
      "1000619             0.0  65.36    10.6     4.8      1.8      0.6  \n",
      "1000620             0.0  65.36    10.6     4.8      1.8      0.6  \n",
      "1000621             0.0  65.36    10.6     4.8      1.8      0.6  \n",
      "1000622             0.0  65.36    10.6     4.8      1.8      0.6  \n",
      "\n",
      "[1000623 rows x 13 columns]\n"
     ]
    },
    {
     "name": "stderr",
     "output_type": "stream",
     "text": [
      "/tmp/ipykernel_632161/1424781712.py:2: DtypeWarning: Columns (1,2,3,4,5,6) have mixed types. Specify dtype option on import or set low_memory=False.\n",
      "  df = pd.read_csv('../dataset/test.csv')\n"
     ]
    }
   ],
   "source": [
    "# 读取CSV文件\n",
    "df = pd.read_csv('test.csv')\n",
    "# 打印数据\n",
    "print(df)"
   ]
  },
  {
   "cell_type": "code",
   "execution_count": 3,
   "id": "a087b55d-a693-4575-90c5-e425b7f19abd",
   "metadata": {},
   "outputs": [
    {
     "data": {
      "text/plain": [
       "DateTime                  object\n",
       "Global_active_power       object\n",
       "Global_reactive_power     object\n",
       "Voltage                   object\n",
       "Global_intensity          object\n",
       "Sub_metering_1            object\n",
       "Sub_metering_2            object\n",
       "Sub_metering_3           float64\n",
       "RR                       float64\n",
       "NBJRR1                   float64\n",
       "NBJRR5                   float64\n",
       "NBJRR10                  float64\n",
       "NBJBROU                  float64\n",
       "dtype: object"
      ]
     },
     "execution_count": 3,
     "metadata": {},
     "output_type": "execute_result"
    }
   ],
   "source": [
    "df.dtypes"
   ]
  },
  {
   "cell_type": "code",
   "execution_count": 4,
   "id": "44d52229-831b-408d-9a1f-4850adafc256",
   "metadata": {},
   "outputs": [],
   "source": [
    "def to_float(df,name):\n",
    "    df[name] = pd.to_numeric(df[name], errors='coerce')\n",
    "    df[name] = df[name].fillna(0)"
   ]
  },
  {
   "cell_type": "code",
   "execution_count": 5,
   "id": "2ad276d2-9dcd-43aa-b6d0-1e8df019118a",
   "metadata": {},
   "outputs": [],
   "source": [
    "to_float(df,'Global_active_power')\n",
    "to_float(df,'Global_reactive_power')\n",
    "to_float(df,'Voltage')\n",
    "to_float(df,'Global_intensity')\n",
    "to_float(df,'Sub_metering_1')\n",
    "to_float(df,'Sub_metering_2')\n",
    "df['DateTime'] = pd.to_datetime(df['DateTime'])"
   ]
  },
  {
   "cell_type": "code",
   "execution_count": 6,
   "id": "e53aecb4-b6bf-47ef-bd09-38fbf4049c36",
   "metadata": {},
   "outputs": [
    {
     "data": {
      "text/plain": [
       "DateTime                 datetime64[ns]\n",
       "Global_active_power             float64\n",
       "Global_reactive_power           float64\n",
       "Voltage                         float64\n",
       "Global_intensity                float64\n",
       "Sub_metering_1                  float64\n",
       "Sub_metering_2                  float64\n",
       "Sub_metering_3                  float64\n",
       "RR                              float64\n",
       "NBJRR1                          float64\n",
       "NBJRR5                          float64\n",
       "NBJRR10                         float64\n",
       "NBJBROU                         float64\n",
       "dtype: object"
      ]
     },
     "execution_count": 6,
     "metadata": {},
     "output_type": "execute_result"
    }
   ],
   "source": [
    "df.dtypes"
   ]
  },
  {
   "cell_type": "code",
   "execution_count": 7,
   "id": "c5fb1129-9a76-4276-8e93-4c165e63ad6c",
   "metadata": {
    "scrolled": true
   },
   "outputs": [
    {
     "name": "stdout",
     "output_type": "stream",
     "text": [
      "                     Global_active_power  Global_reactive_power  Voltage  \\\n",
      "DateTime                                                                   \n",
      "2009-01-01 00:00:00                0.484                  0.062   247.86   \n",
      "2009-01-01 00:01:00                0.484                  0.062   247.72   \n",
      "2009-01-01 00:02:00                0.482                  0.062   247.75   \n",
      "2009-01-01 00:03:00                0.482                  0.060   247.52   \n",
      "2009-01-01 00:04:00                0.482                  0.062   246.94   \n",
      "...                                  ...                    ...      ...   \n",
      "2010-11-26 20:58:00                0.946                  0.000   240.43   \n",
      "2010-11-26 20:59:00                0.944                  0.000   240.00   \n",
      "2010-11-26 21:00:00                0.938                  0.000   239.82   \n",
      "2010-11-26 21:01:00                0.934                  0.000   239.70   \n",
      "2010-11-26 21:02:00                0.932                  0.000   239.55   \n",
      "\n",
      "                     Global_intensity  Sub_metering_1  Sub_metering_2  \\\n",
      "DateTime                                                                \n",
      "2009-01-01 00:00:00               2.2             0.0             0.0   \n",
      "2009-01-01 00:01:00               2.2             0.0             0.0   \n",
      "2009-01-01 00:02:00               2.2             0.0             0.0   \n",
      "2009-01-01 00:03:00               2.2             0.0             0.0   \n",
      "2009-01-01 00:04:00               2.2             0.0             0.0   \n",
      "...                               ...             ...             ...   \n",
      "2010-11-26 20:58:00               4.0             0.0             0.0   \n",
      "2010-11-26 20:59:00               4.0             0.0             0.0   \n",
      "2010-11-26 21:00:00               3.8             0.0             0.0   \n",
      "2010-11-26 21:01:00               3.8             0.0             0.0   \n",
      "2010-11-26 21:02:00               3.8             0.0             0.0   \n",
      "\n",
      "                     Sub_metering_3     RR  NBJRR1  NBJRR5  NBJRR10  NBJBROU  \n",
      "DateTime                                                                      \n",
      "2009-01-01 00:00:00             0.0  51.24    10.0     4.2      1.4      0.6  \n",
      "2009-01-01 00:01:00             0.0  51.24    10.0     4.2      1.4      0.6  \n",
      "2009-01-01 00:02:00             0.0  51.24    10.0     4.2      1.4      0.6  \n",
      "2009-01-01 00:03:00             0.0  51.24    10.0     4.2      1.4      0.6  \n",
      "2009-01-01 00:04:00             0.0  51.24    10.0     4.2      1.4      0.6  \n",
      "...                             ...    ...     ...     ...      ...      ...  \n",
      "2010-11-26 20:58:00             0.0  65.36    10.6     4.8      1.8      0.6  \n",
      "2010-11-26 20:59:00             0.0  65.36    10.6     4.8      1.8      0.6  \n",
      "2010-11-26 21:00:00             0.0  65.36    10.6     4.8      1.8      0.6  \n",
      "2010-11-26 21:01:00             0.0  65.36    10.6     4.8      1.8      0.6  \n",
      "2010-11-26 21:02:00             0.0  65.36    10.6     4.8      1.8      0.6  \n",
      "\n",
      "[1000623 rows x 12 columns]\n"
     ]
    }
   ],
   "source": [
    "df2 = df.copy()\n",
    "df2.set_index('DateTime', inplace=True)\n",
    "print(df2)"
   ]
  },
  {
   "cell_type": "code",
   "execution_count": 8,
   "id": "51b052cc-fd7f-41ab-ba0b-cfd7dc305d61",
   "metadata": {},
   "outputs": [
    {
     "name": "stdout",
     "output_type": "stream",
     "text": [
      "      DateTime  Global_active_power  Global_reactive_power     Voltage  \\\n",
      "0   2009-01-01             1406.692                112.668  242.836062   \n",
      "1   2009-01-02             2327.510                204.730  242.704889   \n",
      "2   2009-01-03             1913.496                174.912  243.681458   \n",
      "3   2009-01-04             1939.994                167.338  244.822431   \n",
      "4   2009-01-05             1604.000                128.938  244.830778   \n",
      "..         ...                  ...                    ...         ...   \n",
      "690 2010-11-22             2041.536                142.354  240.197118   \n",
      "691 2010-11-23             1577.536                137.450  240.575528   \n",
      "692 2010-11-24             1796.248                132.460  240.030965   \n",
      "693 2010-11-25             1431.164                116.128  241.536257   \n",
      "694 2010-11-26             1488.104                120.826  240.291029   \n",
      "\n",
      "     Global_intensity  Sub_metering_1  Sub_metering_2  Sub_metering_3     RR  \\\n",
      "0            4.149861           765.0          3845.0          2803.0  51.24   \n",
      "1            6.737778          2417.0          6018.0         11841.0  51.24   \n",
      "2            5.530833          6440.0           328.0         10439.0  51.24   \n",
      "3            5.633194          1457.0          5251.0          3245.0  51.24   \n",
      "4            4.636250          1247.0           322.0          8650.0  51.24   \n",
      "..                ...             ...             ...             ...    ...   \n",
      "690          6.014167          4855.0          2110.0         10136.0  65.36   \n",
      "691          4.674444          1871.0           458.0          7611.0  65.36   \n",
      "692          5.249583          1096.0          2848.0         12224.0  65.36   \n",
      "693          4.169444          1076.0           426.0          5072.0  65.36   \n",
      "694          4.956295          1080.0           385.0          9989.0  65.36   \n",
      "\n",
      "     NBJRR1  NBJRR5  NBJRR10  NBJBROU  \n",
      "0      10.0     4.2      1.4      0.6  \n",
      "1      10.0     4.2      1.4      0.6  \n",
      "2      10.0     4.2      1.4      0.6  \n",
      "3      10.0     4.2      1.4      0.6  \n",
      "4      10.0     4.2      1.4      0.6  \n",
      "..      ...     ...      ...      ...  \n",
      "690    10.6     4.8      1.8      0.6  \n",
      "691    10.6     4.8      1.8      0.6  \n",
      "692    10.6     4.8      1.8      0.6  \n",
      "693    10.6     4.8      1.8      0.6  \n",
      "694    10.6     4.8      1.8      0.6  \n",
      "\n",
      "[695 rows x 13 columns]\n"
     ]
    }
   ],
   "source": [
    "daily_df = df2.resample('D').agg(\n",
    "    Global_active_power=pd.NamedAgg(column='Global_active_power', aggfunc='sum'), \n",
    "    Global_reactive_power=pd.NamedAgg(column='Global_reactive_power', aggfunc='sum'), \n",
    "    Voltage=pd.NamedAgg(column='Voltage', aggfunc='mean'), \n",
    "    Global_intensity=pd.NamedAgg(column='Global_intensity', aggfunc='mean'),\n",
    "    Sub_metering_1=pd.NamedAgg(column='Sub_metering_1', aggfunc='sum'), \n",
    "    Sub_metering_2=pd.NamedAgg(column='Sub_metering_2', aggfunc='sum'),\n",
    "    Sub_metering_3=pd.NamedAgg(column='Sub_metering_3', aggfunc='sum'),\n",
    "    RR=pd.NamedAgg(column='RR', aggfunc='last'), \n",
    "    NBJRR1=pd.NamedAgg(column='NBJRR1', aggfunc='last'),\n",
    "    NBJRR5=pd.NamedAgg(column='NBJRR5', aggfunc='last'),\n",
    "    NBJRR10=pd.NamedAgg(column='NBJRR10', aggfunc='last'),\n",
    "    NBJBROU=pd.NamedAgg(column='NBJBROU', aggfunc='last')\n",
    ")\n",
    "daily_df = daily_df.reset_index()\n",
    "print(daily_df)"
   ]
  },
  {
   "cell_type": "code",
   "execution_count": 9,
   "id": "376ada6f-9563-451d-b1dc-3cadec4c00dc",
   "metadata": {},
   "outputs": [
    {
     "name": "stdout",
     "output_type": "stream",
     "text": [
      "      DateTime  Global_active_power  Global_reactive_power     Voltage  \\\n",
      "0   2009-01-01             1406.692                112.668  242.836062   \n",
      "1   2009-01-02             2327.510                204.730  242.704889   \n",
      "2   2009-01-03             1913.496                174.912  243.681458   \n",
      "3   2009-01-04             1939.994                167.338  244.822431   \n",
      "4   2009-01-05             1604.000                128.938  244.830778   \n",
      "..         ...                  ...                    ...         ...   \n",
      "690 2010-11-22             2041.536                142.354  240.197118   \n",
      "691 2010-11-23             1577.536                137.450  240.575528   \n",
      "692 2010-11-24             1796.248                132.460  240.030965   \n",
      "693 2010-11-25             1431.164                116.128  241.536257   \n",
      "694 2010-11-26             1488.104                120.826  240.291029   \n",
      "\n",
      "     Global_intensity  Sub_metering_1  Sub_metering_2  Sub_metering_3     RR  \\\n",
      "0            4.149861           765.0          3845.0          2803.0  51.24   \n",
      "1            6.737778          2417.0          6018.0         11841.0  51.24   \n",
      "2            5.530833          6440.0           328.0         10439.0  51.24   \n",
      "3            5.633194          1457.0          5251.0          3245.0  51.24   \n",
      "4            4.636250          1247.0           322.0          8650.0  51.24   \n",
      "..                ...             ...             ...             ...    ...   \n",
      "690          6.014167          4855.0          2110.0         10136.0  65.36   \n",
      "691          4.674444          1871.0           458.0          7611.0  65.36   \n",
      "692          5.249583          1096.0          2848.0         12224.0  65.36   \n",
      "693          4.169444          1076.0           426.0          5072.0  65.36   \n",
      "694          4.956295          1080.0           385.0          9989.0  65.36   \n",
      "\n",
      "     NBJRR1  NBJRR5  NBJRR10  NBJBROU  Sub_metering_4  \n",
      "0      10.0     4.2      1.4      0.6    16031.866667  \n",
      "1      10.0     4.2      1.4      0.6    18515.833333  \n",
      "2      10.0     4.2      1.4      0.6    14684.600000  \n",
      "3      10.0     4.2      1.4      0.6    22380.233333  \n",
      "4      10.0     4.2      1.4      0.6    16514.333333  \n",
      "..      ...     ...      ...      ...             ...  \n",
      "690    10.6     4.8      1.8      0.6    16924.600000  \n",
      "691    10.6     4.8      1.8      0.6    16352.266667  \n",
      "692    10.6     4.8      1.8      0.6    13769.466667  \n",
      "693    10.6     4.8      1.8      0.6    17278.733333  \n",
      "694    10.6     4.8      1.8      0.6    13347.733333  \n",
      "\n",
      "[695 rows x 14 columns]\n"
     ]
    }
   ],
   "source": [
    "daily_df['Sub_metering_4'] = (daily_df['Global_active_power'] * 1000 / 60 \n",
    "                              - daily_df['Sub_metering_1'] \n",
    "                              - daily_df['Sub_metering_2'] \n",
    "                              - daily_df['Sub_metering_3'])\n",
    "print(daily_df)"
   ]
  },
  {
   "cell_type": "code",
   "execution_count": 10,
   "id": "58f41d2b-0d0e-4afe-a115-49c1764589ab",
   "metadata": {},
   "outputs": [
    {
     "name": "stdout",
     "output_type": "stream",
     "text": [
      "      DateTime  Global_active_power  Global_reactive_power     Voltage  \\\n",
      "0   2009-01-01             1406.692                112.668  242.836062   \n",
      "1   2009-01-02             2327.510                204.730  242.704889   \n",
      "2   2009-01-03             1913.496                174.912  243.681458   \n",
      "3   2009-01-04             1939.994                167.338  244.822431   \n",
      "4   2009-01-05             1604.000                128.938  244.830778   \n",
      "..         ...                  ...                    ...         ...   \n",
      "690 2010-11-22             2041.536                142.354  240.197118   \n",
      "691 2010-11-23             1577.536                137.450  240.575528   \n",
      "692 2010-11-24             1796.248                132.460  240.030965   \n",
      "693 2010-11-25             1431.164                116.128  241.536257   \n",
      "694 2010-11-26             1488.104                120.826  240.291029   \n",
      "\n",
      "     Global_intensity  Sub_metering_1  Sub_metering_2  Sub_metering_3  \\\n",
      "0            4.149861           765.0          3845.0          2803.0   \n",
      "1            6.737778          2417.0          6018.0         11841.0   \n",
      "2            5.530833          6440.0           328.0         10439.0   \n",
      "3            5.633194          1457.0          5251.0          3245.0   \n",
      "4            4.636250          1247.0           322.0          8650.0   \n",
      "..                ...             ...             ...             ...   \n",
      "690          6.014167          4855.0          2110.0         10136.0   \n",
      "691          4.674444          1871.0           458.0          7611.0   \n",
      "692          5.249583          1096.0          2848.0         12224.0   \n",
      "693          4.169444          1076.0           426.0          5072.0   \n",
      "694          4.956295          1080.0           385.0          9989.0   \n",
      "\n",
      "     Sub_metering_4     RR  NBJRR1  NBJRR5  NBJRR10  NBJBROU  \n",
      "0      16031.866667  51.24    10.0     4.2      1.4      0.6  \n",
      "1      18515.833333  51.24    10.0     4.2      1.4      0.6  \n",
      "2      14684.600000  51.24    10.0     4.2      1.4      0.6  \n",
      "3      22380.233333  51.24    10.0     4.2      1.4      0.6  \n",
      "4      16514.333333  51.24    10.0     4.2      1.4      0.6  \n",
      "..              ...    ...     ...     ...      ...      ...  \n",
      "690    16924.600000  65.36    10.6     4.8      1.8      0.6  \n",
      "691    16352.266667  65.36    10.6     4.8      1.8      0.6  \n",
      "692    13769.466667  65.36    10.6     4.8      1.8      0.6  \n",
      "693    17278.733333  65.36    10.6     4.8      1.8      0.6  \n",
      "694    13347.733333  65.36    10.6     4.8      1.8      0.6  \n",
      "\n",
      "[695 rows x 14 columns]\n"
     ]
    }
   ],
   "source": [
    "new_df = daily_df.iloc[:, [0, 1, 2, 3, 4, 5, 6, 7, 13, 8, 9, 10, 11, 12]]\n",
    "print(new_df)"
   ]
  },
  {
   "cell_type": "code",
   "execution_count": 11,
   "id": "9959ac8b-0630-496b-8c00-04ccb5ee2e4c",
   "metadata": {},
   "outputs": [],
   "source": [
    "new_df.to_csv(\"test_daily.csv\")"
   ]
  }
 ],
 "metadata": {
  "kernelspec": {
   "display_name": "Python 3 (ipykernel)",
   "language": "python",
   "name": "python3"
  },
  "language_info": {
   "codemirror_mode": {
    "name": "ipython",
    "version": 3
   },
   "file_extension": ".py",
   "mimetype": "text/x-python",
   "name": "python",
   "nbconvert_exporter": "python",
   "pygments_lexer": "ipython3",
   "version": "3.8.19"
  }
 },
 "nbformat": 4,
 "nbformat_minor": 5
}
