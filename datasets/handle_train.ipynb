{
 "cells": [
  {
   "cell_type": "code",
   "execution_count": 1,
   "id": "8696938f-5562-4802-aca7-1f9518e3418f",
   "metadata": {},
   "outputs": [],
   "source": [
    "import pandas as pd\n",
    " "
   ]
  },
  {
   "cell_type": "code",
   "execution_count": 2,
   "id": "fd01bf53-92bf-4368-ad5b-120c1c5b901c",
   "metadata": {},
   "outputs": [
    {
     "name": "stdout",
     "output_type": "stream",
     "text": [
      "                    DateTime Global_active_power Global_reactive_power  \\\n",
      "0        2006-12-16 17:24:00               4.216                 0.418   \n",
      "1        2006-12-16 17:25:00               5.360                 0.436   \n",
      "2        2006-12-16 17:26:00               5.374                 0.498   \n",
      "3        2006-12-16 17:27:00               5.388                 0.502   \n",
      "4        2006-12-16 17:28:00               3.666                 0.528   \n",
      "...                      ...                 ...                   ...   \n",
      "1074631  2008-12-31 23:55:00               0.484                 0.064   \n",
      "1074632  2008-12-31 23:56:00               0.482                 0.064   \n",
      "1074633  2008-12-31 23:57:00               0.482                 0.064   \n",
      "1074634  2008-12-31 23:58:00                0.48                 0.064   \n",
      "1074635  2008-12-31 23:59:00               0.482                 0.062   \n",
      "\n",
      "         Voltage Global_intensity Sub_metering_1 Sub_metering_2  \\\n",
      "0        234.840           18.400          0.000          1.000   \n",
      "1        233.630           23.000          0.000          1.000   \n",
      "2        233.290           23.000          0.000          2.000   \n",
      "3        233.740           23.000          0.000          1.000   \n",
      "4        235.680           15.800          0.000          1.000   \n",
      "...          ...              ...            ...            ...   \n",
      "1074631   247.69              2.2            0.0            0.0   \n",
      "1074632   247.35              2.2            0.0            0.0   \n",
      "1074633   246.99              2.2            0.0            0.0   \n",
      "1074634   246.52              2.2            0.0            0.0   \n",
      "1074635   246.97              2.2            0.0            0.0   \n",
      "\n",
      "         Sub_metering_3     RR  NBJRR1  NBJRR5  NBJRR10  NBJBROU  \n",
      "0                  17.0  63.75   9.333   5.667    2.167    0.167  \n",
      "1                  16.0  63.75   9.333   5.667    2.167    0.167  \n",
      "2                  17.0  63.75   9.333   5.667    2.167    0.167  \n",
      "3                  17.0  63.75   9.333   5.667    2.167    0.167  \n",
      "4                  17.0  63.75   9.333   5.667    2.167    0.167  \n",
      "...                 ...    ...     ...     ...      ...      ...  \n",
      "1074631             0.0  33.24   9.000   1.600    0.000    0.200  \n",
      "1074632             0.0  33.24   9.000   1.600    0.000    0.200  \n",
      "1074633             0.0  33.24   9.000   1.600    0.000    0.200  \n",
      "1074634             0.0  33.24   9.000   1.600    0.000    0.200  \n",
      "1074635             0.0  33.24   9.000   1.600    0.000    0.200  \n",
      "\n",
      "[1074636 rows x 13 columns]\n"
     ]
    }
   ],
   "source": [
    "# 读取CSV文件\n",
    "df = pd.read_csv('train.csv')\n",
    "# 打印数据\n",
    "print(df)"
   ]
  },
  {
   "cell_type": "code",
   "execution_count": 3,
   "id": "15c67d6f-b982-4647-84f8-a8fbe0f1a6b6",
   "metadata": {},
   "outputs": [
    {
     "data": {
      "text/plain": [
       "DateTime                  object\n",
       "Global_active_power       object\n",
       "Global_reactive_power     object\n",
       "Voltage                   object\n",
       "Global_intensity          object\n",
       "Sub_metering_1            object\n",
       "Sub_metering_2            object\n",
       "Sub_metering_3           float64\n",
       "RR                       float64\n",
       "NBJRR1                   float64\n",
       "NBJRR5                   float64\n",
       "NBJRR10                  float64\n",
       "NBJBROU                  float64\n",
       "dtype: object"
      ]
     },
     "execution_count": 3,
     "metadata": {},
     "output_type": "execute_result"
    }
   ],
   "source": [
    "df.dtypes"
   ]
  },
  {
   "cell_type": "code",
   "execution_count": 4,
   "id": "127708fe-0b93-4bcd-a4b0-f804452f4432",
   "metadata": {},
   "outputs": [],
   "source": [
    "def to_float(df,name):\n",
    "    df[name] = pd.to_numeric(df[name], errors='coerce')\n",
    "    df[name] = df[name].fillna(0)"
   ]
  },
  {
   "cell_type": "code",
   "execution_count": 5,
   "id": "3f0de67f-520e-472e-a24b-48917e265cbf",
   "metadata": {},
   "outputs": [],
   "source": [
    "to_float(df,'Global_active_power')\n",
    "to_float(df,'Global_reactive_power')\n",
    "to_float(df,'Voltage')\n",
    "to_float(df,'Global_intensity')\n",
    "to_float(df,'Sub_metering_1')\n",
    "to_float(df,'Sub_metering_2')\n",
    "df['DateTime'] = pd.to_datetime(df['DateTime'])"
   ]
  },
  {
   "cell_type": "code",
   "execution_count": 6,
   "id": "89bf6b8e-bb1f-473e-a620-fb688abb61d4",
   "metadata": {},
   "outputs": [
    {
     "data": {
      "text/plain": [
       "DateTime                 datetime64[ns]\n",
       "Global_active_power             float64\n",
       "Global_reactive_power           float64\n",
       "Voltage                         float64\n",
       "Global_intensity                float64\n",
       "Sub_metering_1                  float64\n",
       "Sub_metering_2                  float64\n",
       "Sub_metering_3                  float64\n",
       "RR                              float64\n",
       "NBJRR1                          float64\n",
       "NBJRR5                          float64\n",
       "NBJRR10                         float64\n",
       "NBJBROU                         float64\n",
       "dtype: object"
      ]
     },
     "execution_count": 6,
     "metadata": {},
     "output_type": "execute_result"
    }
   ],
   "source": [
    "df.dtypes"
   ]
  },
  {
   "cell_type": "code",
   "execution_count": 7,
   "id": "f71a4e24-947f-4a20-9646-451273c658d5",
   "metadata": {},
   "outputs": [
    {
     "name": "stdout",
     "output_type": "stream",
     "text": [
      "                     Global_active_power  Global_reactive_power  Voltage  \\\n",
      "DateTime                                                                   \n",
      "2006-12-16 17:24:00                4.216                  0.418   234.84   \n",
      "2006-12-16 17:25:00                5.360                  0.436   233.63   \n",
      "2006-12-16 17:26:00                5.374                  0.498   233.29   \n",
      "2006-12-16 17:27:00                5.388                  0.502   233.74   \n",
      "2006-12-16 17:28:00                3.666                  0.528   235.68   \n",
      "...                                  ...                    ...      ...   \n",
      "2008-12-31 23:55:00                0.484                  0.064   247.69   \n",
      "2008-12-31 23:56:00                0.482                  0.064   247.35   \n",
      "2008-12-31 23:57:00                0.482                  0.064   246.99   \n",
      "2008-12-31 23:58:00                0.480                  0.064   246.52   \n",
      "2008-12-31 23:59:00                0.482                  0.062   246.97   \n",
      "\n",
      "                     Global_intensity  Sub_metering_1  Sub_metering_2  \\\n",
      "DateTime                                                                \n",
      "2006-12-16 17:24:00              18.4             0.0             1.0   \n",
      "2006-12-16 17:25:00              23.0             0.0             1.0   \n",
      "2006-12-16 17:26:00              23.0             0.0             2.0   \n",
      "2006-12-16 17:27:00              23.0             0.0             1.0   \n",
      "2006-12-16 17:28:00              15.8             0.0             1.0   \n",
      "...                               ...             ...             ...   \n",
      "2008-12-31 23:55:00               2.2             0.0             0.0   \n",
      "2008-12-31 23:56:00               2.2             0.0             0.0   \n",
      "2008-12-31 23:57:00               2.2             0.0             0.0   \n",
      "2008-12-31 23:58:00               2.2             0.0             0.0   \n",
      "2008-12-31 23:59:00               2.2             0.0             0.0   \n",
      "\n",
      "                     Sub_metering_3     RR  NBJRR1  NBJRR5  NBJRR10  NBJBROU  \n",
      "DateTime                                                                      \n",
      "2006-12-16 17:24:00            17.0  63.75   9.333   5.667    2.167    0.167  \n",
      "2006-12-16 17:25:00            16.0  63.75   9.333   5.667    2.167    0.167  \n",
      "2006-12-16 17:26:00            17.0  63.75   9.333   5.667    2.167    0.167  \n",
      "2006-12-16 17:27:00            17.0  63.75   9.333   5.667    2.167    0.167  \n",
      "2006-12-16 17:28:00            17.0  63.75   9.333   5.667    2.167    0.167  \n",
      "...                             ...    ...     ...     ...      ...      ...  \n",
      "2008-12-31 23:55:00             0.0  33.24   9.000   1.600    0.000    0.200  \n",
      "2008-12-31 23:56:00             0.0  33.24   9.000   1.600    0.000    0.200  \n",
      "2008-12-31 23:57:00             0.0  33.24   9.000   1.600    0.000    0.200  \n",
      "2008-12-31 23:58:00             0.0  33.24   9.000   1.600    0.000    0.200  \n",
      "2008-12-31 23:59:00             0.0  33.24   9.000   1.600    0.000    0.200  \n",
      "\n",
      "[1074636 rows x 12 columns]\n"
     ]
    }
   ],
   "source": [
    "df2 = df.copy()\n",
    "df2.set_index('DateTime', inplace=True)\n",
    "print(df2)"
   ]
  },
  {
   "cell_type": "code",
   "execution_count": 8,
   "id": "55ac266a-6a3b-4594-b3ea-69cc15193979",
   "metadata": {},
   "outputs": [
    {
     "name": "stdout",
     "output_type": "stream",
     "text": [
      "      DateTime  Global_active_power  Global_reactive_power     Voltage  \\\n",
      "0   2006-12-16             1209.176                 34.922  236.243763   \n",
      "1   2006-12-17             3390.460                226.006  240.087028   \n",
      "2   2006-12-18             2203.826                161.792  241.231694   \n",
      "3   2006-12-19             1666.194                150.942  241.999313   \n",
      "4   2006-12-20             2225.748                160.998  242.308062   \n",
      "..         ...                  ...                    ...         ...   \n",
      "742 2008-12-27             2972.164                118.132  243.311896   \n",
      "743 2008-12-28             1570.642                112.248  244.560382   \n",
      "744 2008-12-29              555.278                 91.638  244.954757   \n",
      "745 2008-12-30             1195.238                113.206  244.638167   \n",
      "746 2008-12-31             1964.188                129.272  243.296618   \n",
      "\n",
      "     Global_intensity  Sub_metering_1  Sub_metering_2  Sub_metering_3     RR  \\\n",
      "0           13.082828             0.0           546.0          4926.0  63.75   \n",
      "1            9.999028          2033.0          4187.0         13341.0  63.75   \n",
      "2            6.421667          1063.0          2621.0         14018.0  63.75   \n",
      "3            4.926389           839.0          7602.0          6197.0  63.75   \n",
      "4            6.467361             0.0          2648.0         14063.0  63.75   \n",
      "..                ...             ...             ...             ...    ...   \n",
      "742          8.431806             0.0           244.0         12209.0  33.24   \n",
      "743          4.420000          1953.0           217.0          5291.0  33.24   \n",
      "744          1.578889             0.0           218.0          2480.0  33.24   \n",
      "745          3.401806             0.0           245.0          7145.0  33.24   \n",
      "746          5.687639          2975.0           246.0         11860.0  33.24   \n",
      "\n",
      "     NBJRR1  NBJRR5  NBJRR10  NBJBROU  \n",
      "0     9.333   5.667    2.167    0.167  \n",
      "1     9.333   5.667    2.167    0.167  \n",
      "2     9.333   5.667    2.167    0.167  \n",
      "3     9.333   5.667    2.167    0.167  \n",
      "4     9.333   5.667    2.167    0.167  \n",
      "..      ...     ...      ...      ...  \n",
      "742   9.000   1.600    0.000    0.200  \n",
      "743   9.000   1.600    0.000    0.200  \n",
      "744   9.000   1.600    0.000    0.200  \n",
      "745   9.000   1.600    0.000    0.200  \n",
      "746   9.000   1.600    0.000    0.200  \n",
      "\n",
      "[747 rows x 13 columns]\n"
     ]
    }
   ],
   "source": [
    "daily_df = df2.resample('D').agg(\n",
    "    Global_active_power=pd.NamedAgg(column='Global_active_power', aggfunc='sum'), \n",
    "    Global_reactive_power=pd.NamedAgg(column='Global_reactive_power', aggfunc='sum'), \n",
    "    Voltage=pd.NamedAgg(column='Voltage', aggfunc='mean'), \n",
    "    Global_intensity=pd.NamedAgg(column='Global_intensity', aggfunc='mean'),\n",
    "    Sub_metering_1=pd.NamedAgg(column='Sub_metering_1', aggfunc='sum'), \n",
    "    Sub_metering_2=pd.NamedAgg(column='Sub_metering_2', aggfunc='sum'),\n",
    "    Sub_metering_3=pd.NamedAgg(column='Sub_metering_3', aggfunc='sum'),\n",
    "    RR=pd.NamedAgg(column='RR', aggfunc='last'), \n",
    "    NBJRR1=pd.NamedAgg(column='NBJRR1', aggfunc='last'),\n",
    "    NBJRR5=pd.NamedAgg(column='NBJRR5', aggfunc='last'),\n",
    "    NBJRR10=pd.NamedAgg(column='NBJRR10', aggfunc='last'),\n",
    "    NBJBROU=pd.NamedAgg(column='NBJBROU', aggfunc='last')\n",
    ")\n",
    "daily_df = daily_df.reset_index()\n",
    "print(daily_df)"
   ]
  },
  {
   "cell_type": "code",
   "execution_count": 9,
   "id": "d96ad5a1-8e58-43da-9842-3b5d750ff1d4",
   "metadata": {},
   "outputs": [
    {
     "name": "stdout",
     "output_type": "stream",
     "text": [
      "      DateTime  Global_active_power  Global_reactive_power     Voltage  \\\n",
      "0   2006-12-16             1209.176                 34.922  236.243763   \n",
      "1   2006-12-17             3390.460                226.006  240.087028   \n",
      "2   2006-12-18             2203.826                161.792  241.231694   \n",
      "3   2006-12-19             1666.194                150.942  241.999313   \n",
      "4   2006-12-20             2225.748                160.998  242.308062   \n",
      "..         ...                  ...                    ...         ...   \n",
      "742 2008-12-27             2972.164                118.132  243.311896   \n",
      "743 2008-12-28             1570.642                112.248  244.560382   \n",
      "744 2008-12-29              555.278                 91.638  244.954757   \n",
      "745 2008-12-30             1195.238                113.206  244.638167   \n",
      "746 2008-12-31             1964.188                129.272  243.296618   \n",
      "\n",
      "     Global_intensity  Sub_metering_1  Sub_metering_2  Sub_metering_3     RR  \\\n",
      "0           13.082828             0.0           546.0          4926.0  63.75   \n",
      "1            9.999028          2033.0          4187.0         13341.0  63.75   \n",
      "2            6.421667          1063.0          2621.0         14018.0  63.75   \n",
      "3            4.926389           839.0          7602.0          6197.0  63.75   \n",
      "4            6.467361             0.0          2648.0         14063.0  63.75   \n",
      "..                ...             ...             ...             ...    ...   \n",
      "742          8.431806             0.0           244.0         12209.0  33.24   \n",
      "743          4.420000          1953.0           217.0          5291.0  33.24   \n",
      "744          1.578889             0.0           218.0          2480.0  33.24   \n",
      "745          3.401806             0.0           245.0          7145.0  33.24   \n",
      "746          5.687639          2975.0           246.0         11860.0  33.24   \n",
      "\n",
      "     NBJRR1  NBJRR5  NBJRR10  NBJBROU  Sub_metering_4  \n",
      "0     9.333   5.667    2.167    0.167    14680.933333  \n",
      "1     9.333   5.667    2.167    0.167    36946.666667  \n",
      "2     9.333   5.667    2.167    0.167    19028.433333  \n",
      "3     9.333   5.667    2.167    0.167    13131.900000  \n",
      "4     9.333   5.667    2.167    0.167    20384.800000  \n",
      "..      ...     ...      ...      ...             ...  \n",
      "742   9.000   1.600    0.000    0.200    37083.066667  \n",
      "743   9.000   1.600    0.000    0.200    18716.366667  \n",
      "744   9.000   1.600    0.000    0.200     6556.633333  \n",
      "745   9.000   1.600    0.000    0.200    12530.633333  \n",
      "746   9.000   1.600    0.000    0.200    17655.466667  \n",
      "\n",
      "[747 rows x 14 columns]\n"
     ]
    }
   ],
   "source": [
    "daily_df['Sub_metering_4'] = (daily_df['Global_active_power'] * 1000 / 60 \n",
    "                              - daily_df['Sub_metering_1'] \n",
    "                              - daily_df['Sub_metering_2'] \n",
    "                              - daily_df['Sub_metering_3'])\n",
    "print(daily_df)"
   ]
  },
  {
   "cell_type": "code",
   "execution_count": 10,
   "id": "48aa8880-3eae-4c5d-b4d4-5957dec6b93d",
   "metadata": {},
   "outputs": [
    {
     "name": "stdout",
     "output_type": "stream",
     "text": [
      "      DateTime  Global_active_power  Global_reactive_power     Voltage  \\\n",
      "0   2006-12-16             1209.176                 34.922  236.243763   \n",
      "1   2006-12-17             3390.460                226.006  240.087028   \n",
      "2   2006-12-18             2203.826                161.792  241.231694   \n",
      "3   2006-12-19             1666.194                150.942  241.999313   \n",
      "4   2006-12-20             2225.748                160.998  242.308062   \n",
      "..         ...                  ...                    ...         ...   \n",
      "742 2008-12-27             2972.164                118.132  243.311896   \n",
      "743 2008-12-28             1570.642                112.248  244.560382   \n",
      "744 2008-12-29              555.278                 91.638  244.954757   \n",
      "745 2008-12-30             1195.238                113.206  244.638167   \n",
      "746 2008-12-31             1964.188                129.272  243.296618   \n",
      "\n",
      "     Global_intensity  Sub_metering_1  Sub_metering_2  Sub_metering_3  \\\n",
      "0           13.082828             0.0           546.0          4926.0   \n",
      "1            9.999028          2033.0          4187.0         13341.0   \n",
      "2            6.421667          1063.0          2621.0         14018.0   \n",
      "3            4.926389           839.0          7602.0          6197.0   \n",
      "4            6.467361             0.0          2648.0         14063.0   \n",
      "..                ...             ...             ...             ...   \n",
      "742          8.431806             0.0           244.0         12209.0   \n",
      "743          4.420000          1953.0           217.0          5291.0   \n",
      "744          1.578889             0.0           218.0          2480.0   \n",
      "745          3.401806             0.0           245.0          7145.0   \n",
      "746          5.687639          2975.0           246.0         11860.0   \n",
      "\n",
      "     Sub_metering_4     RR  NBJRR1  NBJRR5  NBJRR10  NBJBROU  \n",
      "0      14680.933333  63.75   9.333   5.667    2.167    0.167  \n",
      "1      36946.666667  63.75   9.333   5.667    2.167    0.167  \n",
      "2      19028.433333  63.75   9.333   5.667    2.167    0.167  \n",
      "3      13131.900000  63.75   9.333   5.667    2.167    0.167  \n",
      "4      20384.800000  63.75   9.333   5.667    2.167    0.167  \n",
      "..              ...    ...     ...     ...      ...      ...  \n",
      "742    37083.066667  33.24   9.000   1.600    0.000    0.200  \n",
      "743    18716.366667  33.24   9.000   1.600    0.000    0.200  \n",
      "744     6556.633333  33.24   9.000   1.600    0.000    0.200  \n",
      "745    12530.633333  33.24   9.000   1.600    0.000    0.200  \n",
      "746    17655.466667  33.24   9.000   1.600    0.000    0.200  \n",
      "\n",
      "[747 rows x 14 columns]\n"
     ]
    }
   ],
   "source": [
    "new_df = daily_df.iloc[:, [0, 1, 2, 3, 4, 5, 6, 7, 13, 8, 9, 10, 11, 12]]\n",
    "print(new_df)"
   ]
  },
  {
   "cell_type": "code",
   "execution_count": 11,
   "id": "87d896a3-637e-477c-9088-060e881adb03",
   "metadata": {},
   "outputs": [],
   "source": [
    "new_df.to_csv(\"train_daily.csv\")"
   ]
  }
 ],
 "metadata": {
  "kernelspec": {
   "display_name": "Python 3 (ipykernel)",
   "language": "python",
   "name": "python3"
  },
  "language_info": {
   "codemirror_mode": {
    "name": "ipython",
    "version": 3
   },
   "file_extension": ".py",
   "mimetype": "text/x-python",
   "name": "python",
   "nbconvert_exporter": "python",
   "pygments_lexer": "ipython3",
   "version": "3.8.19"
  }
 },
 "nbformat": 4,
 "nbformat_minor": 5
}
